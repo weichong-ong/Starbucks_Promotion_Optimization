{
 "cells": [
  {
   "cell_type": "markdown",
   "metadata": {},
   "source": [
    "## Portfolio Exercise: Starbucks\n",
    "<br>\n",
    "\n",
    "<img src=\"https://opj.ca/wp-content/uploads/2018/02/New-Starbucks-Logo-1200x969.jpg\" width=\"200\" height=\"200\">\n",
    "<br>\n",
    "<br>\n",
    " \n",
    "#### Background Information\n",
    "\n",
    "The dataset you will be provided in this portfolio exercise was originally used as a take-home assignment provided by Starbucks for their job candidates. The data for this exercise consists of about 120,000 data points split in a 2:1 ratio among training and test files. In the experiment simulated by the data, an advertising promotion was tested to see if it would bring more customers to purchase a specific product priced at $10. Since it costs the company 0.15 to send out each promotion, it would be best to limit that promotion only to those that are most receptive to the promotion. Each data point includes one column indicating whether or not an individual was sent a promotion for the product, and one column indicating whether or not that individual eventually purchased that product. Each individual also has seven additional features associated with them, which are provided abstractly as V1-V7.\n",
    "\n",
    "#### Optimization Strategy\n",
    "\n",
    "Your task is to use the training data to understand what patterns in V1-V7 to indicate that a promotion should be provided to a user. Specifically, your goal is to maximize the following metrics:\n",
    "\n",
    "* **Incremental Response Rate (IRR)** \n",
    "\n",
    "IRR depicts how many more customers purchased the product with the promotion, as compared to if they didn't receive the promotion. Mathematically, it's the ratio of the number of purchasers in the promotion group to the total number of customers in the purchasers group (_treatment_) minus the ratio of the number of purchasers in the non-promotional group to the total number of customers in the non-promotional group (_control_).\n",
    "\n",
    "$$ IRR = \\frac{purch_{treat}}{cust_{treat}} - \\frac{purch_{ctrl}}{cust_{ctrl}} $$\n",
    "\n",
    "\n",
    "* **Net Incremental Revenue (NIR)**\n",
    "\n",
    "NIR depicts how much is made (or lost) by sending out the promotion. Mathematically, this is 10 times the total number of purchasers that received the promotion minus 0.15 times the number of promotions sent out, minus 10 times the number of purchasers who were not given the promotion.\n",
    "\n",
    "$$ NIR = (10\\cdot purch_{treat} - 0.15 \\cdot cust_{treat}) - 10 \\cdot purch_{ctrl}$$\n",
    "\n",
    "For a full description of what Starbucks provides to candidates see the [instructions available here](https://drive.google.com/open?id=18klca9Sef1Rs6q8DW4l7o349r8B70qXM).\n",
    "\n",
    "Below you can find the training data provided.  Explore the data and different optimization strategies.\n",
    "\n",
    "#### How To Test Your Strategy?\n",
    "\n",
    "When you feel like you have an optimization strategy, complete the `promotion_strategy` function to pass to the `test_results` function.  \n",
    "From past data, we know there are four possible outomes:\n",
    "\n",
    "Table of actual promotion vs. predicted promotion customers:  \n",
    "\n",
    "<table>\n",
    "<tr><th></th><th colspan = '2'>Actual</th></tr>\n",
    "<tr><th>Predicted</th><th>Yes</th><th>No</th></tr>\n",
    "<tr><th>Yes</th><td>I</td><td>II</td></tr>\n",
    "<tr><th>No</th><td>III</td><td>IV</td></tr>\n",
    "</table>\n",
    "\n",
    "The metrics are only being compared for the individuals we predict should obtain the promotion – that is, quadrants I and II.  Since the first set of individuals that receive the promotion (in the training set) receive it randomly, we can expect that quadrants I and II will have approximately equivalent participants.  \n",
    "\n",
    "Comparing quadrant I to II then gives an idea of how well your promotion strategy will work in the future. \n",
    "\n",
    "Get started by reading in the data below.  See how each variable or combination of variables along with a promotion influences the chance of purchasing.  When you feel like you have a strategy for who should receive a promotion, test your strategy against the test dataset used in the final `test_results` function."
   ]
  },
  {
   "cell_type": "code",
   "execution_count": 54,
   "metadata": {},
   "outputs": [
    {
     "data": {
      "text/html": [
       "<div>\n",
       "<style scoped>\n",
       "    .dataframe tbody tr th:only-of-type {\n",
       "        vertical-align: middle;\n",
       "    }\n",
       "\n",
       "    .dataframe tbody tr th {\n",
       "        vertical-align: top;\n",
       "    }\n",
       "\n",
       "    .dataframe thead th {\n",
       "        text-align: right;\n",
       "    }\n",
       "</style>\n",
       "<table border=\"1\" class=\"dataframe\">\n",
       "  <thead>\n",
       "    <tr style=\"text-align: right;\">\n",
       "      <th></th>\n",
       "      <th>ID</th>\n",
       "      <th>Promotion</th>\n",
       "      <th>purchase</th>\n",
       "      <th>V1</th>\n",
       "      <th>V2</th>\n",
       "      <th>V3</th>\n",
       "      <th>V4</th>\n",
       "      <th>V5</th>\n",
       "      <th>V6</th>\n",
       "      <th>V7</th>\n",
       "    </tr>\n",
       "  </thead>\n",
       "  <tbody>\n",
       "    <tr>\n",
       "      <th>0</th>\n",
       "      <td>1</td>\n",
       "      <td>No</td>\n",
       "      <td>0</td>\n",
       "      <td>2</td>\n",
       "      <td>30.443518</td>\n",
       "      <td>-1.165083</td>\n",
       "      <td>1</td>\n",
       "      <td>1</td>\n",
       "      <td>3</td>\n",
       "      <td>2</td>\n",
       "    </tr>\n",
       "    <tr>\n",
       "      <th>1</th>\n",
       "      <td>3</td>\n",
       "      <td>No</td>\n",
       "      <td>0</td>\n",
       "      <td>3</td>\n",
       "      <td>32.159350</td>\n",
       "      <td>-0.645617</td>\n",
       "      <td>2</td>\n",
       "      <td>3</td>\n",
       "      <td>2</td>\n",
       "      <td>2</td>\n",
       "    </tr>\n",
       "    <tr>\n",
       "      <th>2</th>\n",
       "      <td>4</td>\n",
       "      <td>No</td>\n",
       "      <td>0</td>\n",
       "      <td>2</td>\n",
       "      <td>30.431659</td>\n",
       "      <td>0.133583</td>\n",
       "      <td>1</td>\n",
       "      <td>1</td>\n",
       "      <td>4</td>\n",
       "      <td>2</td>\n",
       "    </tr>\n",
       "    <tr>\n",
       "      <th>3</th>\n",
       "      <td>5</td>\n",
       "      <td>No</td>\n",
       "      <td>0</td>\n",
       "      <td>0</td>\n",
       "      <td>26.588914</td>\n",
       "      <td>-0.212728</td>\n",
       "      <td>2</td>\n",
       "      <td>1</td>\n",
       "      <td>4</td>\n",
       "      <td>2</td>\n",
       "    </tr>\n",
       "    <tr>\n",
       "      <th>4</th>\n",
       "      <td>8</td>\n",
       "      <td>Yes</td>\n",
       "      <td>0</td>\n",
       "      <td>3</td>\n",
       "      <td>28.044332</td>\n",
       "      <td>-0.385883</td>\n",
       "      <td>1</td>\n",
       "      <td>1</td>\n",
       "      <td>2</td>\n",
       "      <td>2</td>\n",
       "    </tr>\n",
       "  </tbody>\n",
       "</table>\n",
       "</div>"
      ],
      "text/plain": [
       "   ID Promotion  purchase  V1         V2        V3  V4  V5  V6  V7\n",
       "0   1        No         0   2  30.443518 -1.165083   1   1   3   2\n",
       "1   3        No         0   3  32.159350 -0.645617   2   3   2   2\n",
       "2   4        No         0   2  30.431659  0.133583   1   1   4   2\n",
       "3   5        No         0   0  26.588914 -0.212728   2   1   4   2\n",
       "4   8       Yes         0   3  28.044332 -0.385883   1   1   2   2"
      ]
     },
     "execution_count": 54,
     "metadata": {},
     "output_type": "execute_result"
    }
   ],
   "source": [
    "# load in packages\n",
    "from itertools import combinations\n",
    "# from test_results import test_results, score\n",
    "import numpy as np\n",
    "import pandas as pd\n",
    "import scipy as sp\n",
    "import sklearn as sk\n",
    "from scipy.stats import norm, binom_test\n",
    "import statsmodels.api as sm\n",
    "from sklearn.preprocessing import StandardScaler\n",
    "import matplotlib.pyplot as plt\n",
    "import seaborn as sb\n",
    "from sklearn.linear_model import LogisticRegression\n",
    "from sklearn.metrics import classification_report, confusion_matrix\n",
    "from sklearn.model_selection import train_test_split, RepeatedStratifiedKFold, cross_val_score, GridSearchCV\n",
    "from sklearn.ensemble import RandomForestClassifier\n",
    "from imblearn.ensemble import BalancedRandomForestClassifier, EasyEnsembleClassifier\n",
    "%matplotlib inline\n",
    "\n",
    "# load in the data\n",
    "train_data = pd.read_csv('./training.csv')\n",
    "train_data.head()"
   ]
  },
  {
   "cell_type": "code",
   "execution_count": 2,
   "metadata": {},
   "outputs": [
    {
     "data": {
      "text/plain": [
       "(84534, 10)"
      ]
     },
     "execution_count": 2,
     "metadata": {},
     "output_type": "execute_result"
    }
   ],
   "source": [
    "train_data.shape"
   ]
  },
  {
   "cell_type": "code",
   "execution_count": 3,
   "metadata": {},
   "outputs": [
    {
     "data": {
      "text/plain": [
       "0"
      ]
     },
     "execution_count": 3,
     "metadata": {},
     "output_type": "execute_result"
    }
   ],
   "source": [
    "train_data.duplicated().sum()"
   ]
  },
  {
   "cell_type": "code",
   "execution_count": 4,
   "metadata": {},
   "outputs": [
    {
     "data": {
      "text/plain": [
       "Promotion\n",
       "No     42170\n",
       "Yes    42364\n",
       "Name: ID, dtype: int64"
      ]
     },
     "execution_count": 4,
     "metadata": {},
     "output_type": "execute_result"
    }
   ],
   "source": [
    "train_data.groupby('Promotion')['ID'].count()"
   ]
  },
  {
   "cell_type": "code",
   "execution_count": 5,
   "metadata": {},
   "outputs": [
    {
     "data": {
      "text/plain": [
       "721"
      ]
     },
     "execution_count": 5,
     "metadata": {},
     "output_type": "execute_result"
    }
   ],
   "source": [
    "train_data.query('Promotion == \"Yes\"')['purchase'].sum()"
   ]
  },
  {
   "cell_type": "code",
   "execution_count": 6,
   "metadata": {},
   "outputs": [
    {
     "name": "stdout",
     "output_type": "stream",
     "text": [
      "42170 42364\n"
     ]
    }
   ],
   "source": [
    "cust_ctrl = train_data.groupby('Promotion')['ID'].count()[0]\n",
    "cust_treat = train_data.groupby('Promotion')['ID'].count()[1]\n",
    "print(cust_ctrl, cust_treat)"
   ]
  },
  {
   "cell_type": "code",
   "execution_count": 7,
   "metadata": {},
   "outputs": [
    {
     "name": "stdout",
     "output_type": "stream",
     "text": [
      "319 721\n"
     ]
    }
   ],
   "source": [
    "purch_ctrl = train_data.query('Promotion == \"No\"')['purchase'].sum()\n",
    "purch_treat = train_data.query('Promotion == \"Yes\"')['purchase'].sum()\n",
    "print(purch_ctrl , purch_treat)"
   ]
  },
  {
   "cell_type": "markdown",
   "metadata": {},
   "source": [
    "## Invariant Metric Sanity Check\n",
    "###  Hypotheses\n",
    "$$ H_{0}: cust_{ctrl} = cust_{treat} $$ \n",
    "$$ H_{1}: cust_{ctrl} != cust_{treat} $$"
   ]
  },
  {
   "cell_type": "markdown",
   "metadata": {},
   "source": [
    "### 1. Analytical: Confidence Interval "
   ]
  },
  {
   "cell_type": "code",
   "execution_count": 8,
   "metadata": {},
   "outputs": [
    {
     "name": "stdout",
     "output_type": "stream",
     "text": [
      "Observed proportion: 0.5011\n",
      "Confidence Interval:[0.4966,0.5034]\n",
      "-> Sanity check passed!\n"
     ]
    }
   ],
   "source": [
    "# Compute critical z score\n",
    "def get_z_crit(alpha):\n",
    "    '''\n",
    "    Compute critical z score\n",
    "\n",
    "    Args:\n",
    "        alpha: Significant level\n",
    "\n",
    "    Returns: Observed proportion and confidence interval\n",
    "\n",
    "    '''\n",
    "    return -norm.ppf(alpha / 2)\n",
    "\n",
    "# Compute confidence interval\n",
    "def get_confi_interval(N_ctrl, N_treat, p=0.5, alpha = 0.05):\n",
    "    '''\n",
    "    Compute confidence interval for population sanity check\n",
    "\n",
    "    Args:\n",
    "        N_ctrl: total number of customers in the non-promotional group (control)\n",
    "        N_treat: total number of customers in the promotional group (treatment) \n",
    "\n",
    "    Returns: Observed proportion and confidence interval\n",
    "\n",
    "    '''\n",
    "    se = np.sqrt(p * (1 - p) / (N_ctrl + N_treat))\n",
    "    moe = se * get_z_crit(alpha)\n",
    "    lb, ub = p - moe, p + moe\n",
    "\n",
    "    # Observed proportion\n",
    "    p_obs = N_treat / (N_ctrl + N_treat)\n",
    "\n",
    "    print('Observed proportion: {:.4f}'.format(p_obs))\n",
    "    print('Confidence Interval:[{:.4f},{:.4f}]'.format(lb, ub))\n",
    "\n",
    "    # Check if the observed proportion falls within the confidence interval\n",
    "    if (p_obs >= lb) & (p_obs <= ub):\n",
    "        return print('-> Sanity check passed!')\n",
    "    else:\n",
    "        return print('-> Sanity check failed!')\n",
    "\n",
    "get_confi_interval(cust_ctrl, cust_treat)"
   ]
  },
  {
   "cell_type": "markdown",
   "metadata": {},
   "source": [
    "### 2. Analytical: p_value (Normal and Binomial Distribution)"
   ]
  },
  {
   "cell_type": "code",
   "execution_count": 9,
   "metadata": {},
   "outputs": [
    {
     "name": "stdout",
     "output_type": "stream",
     "text": [
      "z score calculated: 0.6672\n",
      "p_value calculated: 0.5046\n",
      "z score normal built-in function: 0.6672\n",
      "p_value normal built-in function: 0.5046\n",
      "p_value binomial built-in function: 0.5068\n",
      "-> We fail to reject the null hypothesis, Sanity check passed!\n"
     ]
    }
   ],
   "source": [
    "def get_p_value(N_ctrl, N_treat, p=0.5, alpha = 0.05):\n",
    "    '''\n",
    "    Compute p-values for population sanity check\n",
    "\n",
    "    Args:\n",
    "        N_ctrl: total number of customers in the non-promotional group (control)\n",
    "        N_treat: total number of customers in the promotional group (treatment) \n",
    "\n",
    "    Returns: z-scores and p-values\n",
    "\n",
    "    '''\n",
    "\n",
    "    N_total = N_ctrl + N_treat\n",
    "\n",
    "    # Using z-Test formula\n",
    "    se = np.sqrt(p * (1 - p) * N_total)\n",
    "    # x = N_ctrl\n",
    "    x = N_treat\n",
    "    miu = p * N_total\n",
    "    z = (x - miu) / se\n",
    "    if z > 0: # x = N_treat\n",
    "        pval = (1 - norm.cdf(z)) * 2\n",
    "    else: # x = N_ctrl\n",
    "        pval = 2 * norm.cdf(z)\n",
    "\n",
    "    print('z score calculated: {:.4f}'.format(z))\n",
    "    print('p_value calculated: {:.4f}'.format(pval))\n",
    "\n",
    "    # Using built-in function\n",
    "\n",
    "    # ztest\n",
    "    stat_z, pval_z = sm.stats.proportions_ztest(N_treat, N_total, value = p, alternative = 'two-sided')\n",
    "    print('z score normal built-in function: {:.4f}'.format(stat_z))\n",
    "    print('p_value normal built-in function: {:.4f}'.format(pval_z))\n",
    "\n",
    "    # Assumption: binomial\n",
    "    pval_binom = binom_test(N_treat, N_total, p = p, alternative = 'two-sided')\n",
    "    print('p_value binomial built-in function: {:.4f}'.format(pval_binom))\n",
    "\n",
    "    if pval > alpha:\n",
    "        return print('-> We fail to reject the null hypothesis, Sanity check passed!')\n",
    "    else:\n",
    "        return print('-> We reject the null hypothesis, Sanity check failed!')\n",
    "\n",
    "get_p_value(cust_ctrl, cust_treat)"
   ]
  },
  {
   "cell_type": "markdown",
   "metadata": {},
   "source": [
    "### 3. Simulation: p_value (Sampling Distribution)"
   ]
  },
  {
   "cell_type": "code",
   "execution_count": 10,
   "metadata": {},
   "outputs": [
    {
     "name": "stdout",
     "output_type": "stream",
     "text": [
      "42170 42364\n"
     ]
    }
   ],
   "source": [
    "print(cust_ctrl, cust_treat)"
   ]
  },
  {
   "cell_type": "code",
   "execution_count": 11,
   "metadata": {},
   "outputs": [
    {
     "name": "stdout",
     "output_type": "stream",
     "text": [
      "p_value: 0.507145\n",
      "-> We fail to reject the null hypothesis, Sanity check passed!\n"
     ]
    }
   ],
   "source": [
    "def get_p_value_sampling_distribution(N_ctrl, N_treat, n_trials, p = 0.5, alpha = 0.05):\n",
    "    N_total = N_ctrl + N_treat\n",
    "    samples = np.random.binomial(N_total, p, n_trials)\n",
    "    # pval = np.logical_or(samples <= N_treat, samples >= N_ctrl).mean()\n",
    "    # Important: N_treat is bigger than N_ctrl\n",
    "    pval = np.logical_or(samples <= N_ctrl, samples >= N_treat).mean()\n",
    "    print('p_value: {}'.format(pval))\n",
    "\n",
    "    if pval > alpha:\n",
    "        return print('-> We fail to reject the null hypothesis, Sanity check passed!')\n",
    "    else:\n",
    "        return print('-> We reject the null hypothesis, Sanity check failed!')\n",
    "\n",
    "get_p_value_sampling_distribution(cust_ctrl, cust_treat, 200000)"
   ]
  },
  {
   "cell_type": "markdown",
   "metadata": {},
   "source": [
    "# Result Analysis: Evaluation Metrics"
   ]
  },
  {
   "cell_type": "markdown",
   "metadata": {},
   "source": [
    "## Conversion Rate\n",
    "###  Hypotheses\n",
    "$$ H_{0}: p_{treat} - p_{ctrl} <= 0 $$ \n",
    "$$ H_{1}: p_{treat} - p_{ctrl} > 0 $$"
   ]
  },
  {
   "cell_type": "code",
   "execution_count": 12,
   "metadata": {},
   "outputs": [
    {
     "data": {
      "text/html": [
       "<div>\n",
       "<style scoped>\n",
       "    .dataframe tbody tr th:only-of-type {\n",
       "        vertical-align: middle;\n",
       "    }\n",
       "\n",
       "    .dataframe tbody tr th {\n",
       "        vertical-align: top;\n",
       "    }\n",
       "\n",
       "    .dataframe thead th {\n",
       "        text-align: right;\n",
       "    }\n",
       "</style>\n",
       "<table border=\"1\" class=\"dataframe\">\n",
       "  <thead>\n",
       "    <tr style=\"text-align: right;\">\n",
       "      <th></th>\n",
       "      <th>ID</th>\n",
       "      <th>Promotion</th>\n",
       "      <th>purchase</th>\n",
       "      <th>V1</th>\n",
       "      <th>V2</th>\n",
       "      <th>V3</th>\n",
       "      <th>V4</th>\n",
       "      <th>V5</th>\n",
       "      <th>V6</th>\n",
       "      <th>V7</th>\n",
       "    </tr>\n",
       "  </thead>\n",
       "  <tbody>\n",
       "    <tr>\n",
       "      <th>0</th>\n",
       "      <td>1</td>\n",
       "      <td>No</td>\n",
       "      <td>0</td>\n",
       "      <td>2</td>\n",
       "      <td>30.443518</td>\n",
       "      <td>-1.165083</td>\n",
       "      <td>1</td>\n",
       "      <td>1</td>\n",
       "      <td>3</td>\n",
       "      <td>2</td>\n",
       "    </tr>\n",
       "    <tr>\n",
       "      <th>1</th>\n",
       "      <td>3</td>\n",
       "      <td>No</td>\n",
       "      <td>0</td>\n",
       "      <td>3</td>\n",
       "      <td>32.159350</td>\n",
       "      <td>-0.645617</td>\n",
       "      <td>2</td>\n",
       "      <td>3</td>\n",
       "      <td>2</td>\n",
       "      <td>2</td>\n",
       "    </tr>\n",
       "    <tr>\n",
       "      <th>2</th>\n",
       "      <td>4</td>\n",
       "      <td>No</td>\n",
       "      <td>0</td>\n",
       "      <td>2</td>\n",
       "      <td>30.431659</td>\n",
       "      <td>0.133583</td>\n",
       "      <td>1</td>\n",
       "      <td>1</td>\n",
       "      <td>4</td>\n",
       "      <td>2</td>\n",
       "    </tr>\n",
       "    <tr>\n",
       "      <th>3</th>\n",
       "      <td>5</td>\n",
       "      <td>No</td>\n",
       "      <td>0</td>\n",
       "      <td>0</td>\n",
       "      <td>26.588914</td>\n",
       "      <td>-0.212728</td>\n",
       "      <td>2</td>\n",
       "      <td>1</td>\n",
       "      <td>4</td>\n",
       "      <td>2</td>\n",
       "    </tr>\n",
       "    <tr>\n",
       "      <th>4</th>\n",
       "      <td>8</td>\n",
       "      <td>Yes</td>\n",
       "      <td>0</td>\n",
       "      <td>3</td>\n",
       "      <td>28.044332</td>\n",
       "      <td>-0.385883</td>\n",
       "      <td>1</td>\n",
       "      <td>1</td>\n",
       "      <td>2</td>\n",
       "      <td>2</td>\n",
       "    </tr>\n",
       "  </tbody>\n",
       "</table>\n",
       "</div>"
      ],
      "text/plain": [
       "   ID Promotion  purchase  V1         V2        V3  V4  V5  V6  V7\n",
       "0   1        No         0   2  30.443518 -1.165083   1   1   3   2\n",
       "1   3        No         0   3  32.159350 -0.645617   2   3   2   2\n",
       "2   4        No         0   2  30.431659  0.133583   1   1   4   2\n",
       "3   5        No         0   0  26.588914 -0.212728   2   1   4   2\n",
       "4   8       Yes         0   3  28.044332 -0.385883   1   1   2   2"
      ]
     },
     "execution_count": 12,
     "metadata": {},
     "output_type": "execute_result"
    }
   ],
   "source": [
    "train_data.head()"
   ]
  },
  {
   "cell_type": "code",
   "execution_count": 13,
   "metadata": {},
   "outputs": [
    {
     "name": "stdout",
     "output_type": "stream",
     "text": [
      "0.007564619397676073 0.017019167217448776\n"
     ]
    }
   ],
   "source": [
    "p_ctrl = train_data.query('Promotion == \"No\"')['purchase'].mean()\n",
    "p_treat = train_data.query('Promotion == \"Yes\"')['purchase'].mean()\n",
    "print(p_ctrl, p_treat)"
   ]
  },
  {
   "cell_type": "code",
   "execution_count": 14,
   "metadata": {},
   "outputs": [
    {
     "data": {
      "text/plain": [
       "0.012302742091939338"
      ]
     },
     "execution_count": 14,
     "metadata": {},
     "output_type": "execute_result"
    }
   ],
   "source": [
    "train_data['purchase'].mean()"
   ]
  },
  {
   "cell_type": "markdown",
   "metadata": {},
   "source": [
    "### 1. Analytical: p_value (Normal Distribution)"
   ]
  },
  {
   "cell_type": "code",
   "execution_count": 15,
   "metadata": {},
   "outputs": [
    {
     "name": "stdout",
     "output_type": "stream",
     "text": [
      "z socore: 12.4684\n",
      "p_value: 0.0000\n",
      "z socore built in function: 12.4684\n",
      "p_value built in function: 0.0000\n",
      "-> We reject the null hypothesis, with a Type I error rate of 5%, we have enough evidence that the converted rate with promotion is better than the converted rate with non-promotion.\n"
     ]
    }
   ],
   "source": [
    "def get_p_value_evaluation(df, N_ctrl, N_treat, alpha = 0.05):\n",
    "    \n",
    "    # Formula\n",
    "    purch_ctrl = df.query('Promotion == \"No\"')['purchase'].sum()\n",
    "    purch_treat = df.query('Promotion == \"Yes\"')['purchase'].sum()\n",
    "\n",
    "    p_ctrl = df.query('Promotion == \"No\"')['purchase'].mean()\n",
    "    p_treat = df.query('Promotion == \"Yes\"')['purchase'].mean()\n",
    "    \n",
    "    p_pool = df['purchase'].mean()\n",
    "\n",
    "    se_pool = np.sqrt(p_pool * (1 - p_pool)*(1 / N_ctrl + 1 / N_treat))\n",
    "\n",
    "    z = (p_treat - p_ctrl) / se_pool\n",
    "    pval = 1 - norm.cdf(z)\n",
    "    print('z socore: {:.4f}'.format(z))\n",
    "    print('p_value: {:.4f}'.format(pval))\n",
    "\n",
    "    # Built in function\n",
    "    stat_z, pval_z = sm.stats.proportions_ztest([purch_treat, purch_ctrl], [N_treat, N_ctrl], alternative = 'larger')\n",
    "    print('z socore built in function: {:.4f}'.format(stat_z))\n",
    "    print('p_value built in function: {:.4f}'.format(pval_z))\n",
    "\n",
    "    if pval > alpha:\n",
    "        return print('-> We fail to reject the null hypothesis, with a Type I error rate of {:.0f}%, we do not have enough evidence that the converted rate with promotion is better than the converted rate with non-promotion.'.format(alpha*100))\n",
    "    else:\n",
    "        return print('-> We reject the null hypothesis, with a Type I error rate of {:.0f}%, we have enough evidence that the converted rate with promotion is better than the converted rate with non-promotion.'.format(alpha*100))\n",
    "\n",
    "get_p_value_evaluation(train_data, cust_ctrl, cust_treat)\n"
   ]
  },
  {
   "cell_type": "markdown",
   "metadata": {},
   "source": [
    "### 2. Analytical: Effect Size Test"
   ]
  },
  {
   "cell_type": "code",
   "execution_count": 16,
   "metadata": {},
   "outputs": [
    {
     "name": "stdout",
     "output_type": "stream",
     "text": [
      "Confidence Interval:[0.0087,0.0102]\n",
      "-> The confidence interval is far right from the null (null_diff = 0), there is a statistical significant positive change.\n",
      "-> With a practical significant level of 0.01, best guess is there is a practical significant positive change, but there is also possible the change is not practically significant.\n"
     ]
    }
   ],
   "source": [
    "def effect_size(df, N_ctrl, N_treat, dmin, null_diff = 0, alpha = 0.05):\n",
    "    '''\n",
    "    Compute confidence interval for converted rate\n",
    "\n",
    "    Args:\n",
    "        df: \n",
    "        N_ctrl: total number of customers in the non-promotional group (control)\n",
    "        N_treat: total number of customers in the promotional group (treatment) \n",
    "        dmin = Practical significant level (Minimum Detectable Effect)\n",
    "\n",
    "    Returns: Observed proportion and confidence interval\n",
    "\n",
    "    '''\n",
    "\n",
    "    # Observed difference in proportion\n",
    "    p_ctrl = df.query('Promotion == \"No\"')['purchase'].mean()\n",
    "    p_treat = df.query('Promotion == \"Yes\"')['purchase'].mean()\n",
    "    obs_diff = p_treat - p_ctrl\n",
    "\n",
    "    # Compute pooled standard error assuming that both of the variances from the two samples are equal\n",
    "    p_pool = df['purchase'].mean()\n",
    "\n",
    "    se_pool = np.sqrt(p_pool * (1 - p_pool) / (N_ctrl + N_treat))\n",
    "    moe = se_pool * get_z_crit(alpha)\n",
    "\n",
    "    lb, ub = obs_diff - moe, obs_diff + moe\n",
    "\n",
    "    # print('Observed difference in proportion: {:.4f}'.format(obs_diff))\n",
    "    print('Confidence Interval:[{:.4f},{:.4f}]'.format(lb, ub))\n",
    "    \n",
    "    # Check if it is statistically significant\n",
    "    if (null_diff >= lb) & (null_diff <= ub):\n",
    "        print('-> Difference in proportion under the null (null_diff = 0) is within the range, there is not a statistical significant positive change.')\n",
    "    else:\n",
    "        print('-> The confidence interval is far right from the null (null_diff = 0), there is a statistical significant positive change.')\n",
    "    \n",
    "    # Check if it is practically significant\n",
    "    if (dmin >= lb) & (dmin <= ub):\n",
    "        print('-> With a practical significant level of {}, best guess is there is a practical significant positive change, but there is also possible the change is not practically significant.'.format(dmin))\n",
    "    elif (-dmin >= lb) & (-dmin <= ub):\n",
    "        print('-> With a practical significant level of {}, best guess is there is a practical significant negative change, but there is also possible the change is not practically significant. '.format(dmin))\n",
    "    else:\n",
    "        print('-> The confidence interval is far right from the practical significant level, there is a practical significant positive change.'.format(dmin))\n",
    "\n",
    "effect_size(train_data, cust_ctrl, cust_treat, 0.01)\n"
   ]
  },
  {
   "cell_type": "markdown",
   "metadata": {},
   "source": [
    "### 3. Simulating from the Null"
   ]
  },
  {
   "cell_type": "code",
   "execution_count": 17,
   "metadata": {},
   "outputs": [
    {
     "name": "stdout",
     "output_type": "stream",
     "text": [
      "p_value: 0.0000\n",
      "-> We reject the null hypothesis, with a Type I error rate of 5%, we have enough evidence that the converted rate with promotion is better than the converted rate with non-promotion.\n"
     ]
    },
    {
     "data": {
      "image/png": "[encoded data removed]",
      "text/plain": [
       "<Figure size 432x288 with 1 Axes>"
      ]
     },
     "metadata": {
      "needs_background": "light"
     },
     "output_type": "display_data"
    }
   ],
   "source": [
    "def simulation_evaluation(df, N_ctrl, N_treat, alpha = 0.05):\n",
    "\n",
    "    # Observed difference in proportion\n",
    "    p_ctrl = df.query('Promotion == \"No\"')['purchase'].mean()\n",
    "    p_treat = df.query('Promotion == \"Yes\"')['purchase'].mean()\n",
    "    obs_diff = p_treat - p_ctrl\n",
    "\n",
    "    # Simulate sampling distribution of the difference in converted rate under the null hypothesis\n",
    "    p_diffs = []\n",
    "    # np.random.binomial(n, p, size)\n",
    "    # n = number of trials\n",
    "    # p = probability of success of each trial\n",
    "    # size = tested for how many times\n",
    "    \n",
    "    # Assume under the null hypothesis\n",
    "    # p_treat and p_ctrl both have \"true\" success rates equal to the converted success rate regardless of promotion\n",
    "    # p_ctrl = p_treat = p_null\n",
    "    p_null = df['purchase'].mean()\n",
    "    converted_treat_simulation = np.random.binomial(N_treat, p_null, size=10000)/N_treat\n",
    "    converted_ctrl_simulation = np.random.binomial(N_ctrl, p_null, size=10000)/N_ctrl\n",
    "    p_diffs = converted_treat_simulation - converted_ctrl_simulation\n",
    "        \n",
    "    # Convert to numpy array\n",
    "    p_diffs = np.array(p_diffs)\n",
    "\n",
    "    # Compute p-value\n",
    "    pval = (p_diffs > obs_diff).mean()\n",
    "    print('p_value: {:.4f}'.format(pval))\n",
    "\n",
    "    plt.hist(p_diffs)\n",
    "    plt.axvline(x=obs_diff, color = 'red')\n",
    "\n",
    "    if pval > alpha:\n",
    "        return print('-> We fail to reject the null hypothesis, with a Type I error rate of {:.0f}%, we do not have enough evidence that the converted rate with promotion is better than the converted rate with non-promotion.'.format(alpha*100))\n",
    "    else:\n",
    "        return print('-> We reject the null hypothesis, with a Type I error rate of {:.0f}%, we have enough evidence that the converted rate with promotion is better than the converted rate with non-promotion.'.format(alpha*100))\n",
    "\n",
    "simulation_evaluation(train_data, cust_ctrl, cust_treat)"
   ]
  },
  {
   "cell_type": "markdown",
   "metadata": {},
   "source": [
    "> This is expected, but what about the other two more important metrics, IRR and NIR?"
   ]
  },
  {
   "cell_type": "markdown",
   "metadata": {},
   "source": [
    "# Extra"
   ]
  },
  {
   "cell_type": "code",
   "execution_count": 18,
   "metadata": {},
   "outputs": [
    {
     "data": {
      "image/png": "[encoded data removed]",
      "text/plain": [
       "<Figure size 432x288 with 1 Axes>"
      ]
     },
     "metadata": {
      "needs_background": "light"
     },
     "output_type": "display_data"
    },
    {
     "name": "stdout",
     "output_type": "stream",
     "text": [
      "0 0.0009765625\n",
      "1 0.009765625\n",
      "2 0.0439453125\n",
      "3 0.1171875\n",
      "4 0.205078125\n",
      "5 0.24609375\n",
      "6 0.205078125\n",
      "7 0.1171875\n",
      "8 0.0439453125\n",
      "9 0.009765625\n",
      "10 0.0009765625\n"
     ]
    }
   ],
   "source": [
    "from math import factorial\n",
    "\n",
    "n, p = 10, .5  # number of trials, probability of success each trial\n",
    "s = np.random.binomial(n, p, 1000)\n",
    "\n",
    "plt.hist(s)\n",
    "plt.show()\n",
    "# Getting 5 successes out of 10 has the highest probability\n",
    "\n",
    "# To prove: \n",
    "for k in range(0,11):\n",
    "    print(k, factorial(n) / (factorial(k) * factorial(n - k)) * p ** k * (1 - p) ** (n - k))"
   ]
  },
  {
   "cell_type": "markdown",
   "metadata": {},
   "source": [
    "## Incremental Response Rate\n",
    "$$ IRR = \\frac{purch_{treat}}{cust_{treat}} - \\frac{purch_{ctrl}}{cust_{ctrl}} $$\n",
    "\n",
    "### Hypotheses\n",
    "$$ H_{0}: IRR <= 0 $$\n",
    "$$ H_{1}: IRR > 0 $$"
   ]
  },
  {
   "cell_type": "markdown",
   "metadata": {},
   "source": [
    "### Analytical: Effect Size Test"
   ]
  },
  {
   "cell_type": "code",
   "execution_count": 19,
   "metadata": {},
   "outputs": [
    {
     "name": "stdout",
     "output_type": "stream",
     "text": [
      "Incremental Response Rate: 0.0095\n",
      "Confidence Interval: [0.0087,0.0102]\n",
      "-> The confidence interval is far right from the null (null_diff = 0), there is a statistical significant positive change.\n",
      "-> With a practical significant level of 0.01, best guess is there is a practical significant positive change, but there is also possible the change is not practically significant.\n"
     ]
    }
   ],
   "source": [
    "def effect_size_IRR(df, N_ctrl, N_treat, dmin, IRR_null = 0, alpha = 0.05):\n",
    "    '''\n",
    "    Compute confidence interval for converted rate\n",
    "\n",
    "    Args:\n",
    "        df: \n",
    "        N_ctrl: total number of customers in the non-promotional group (control)\n",
    "        N_treat: total number of customers in the promotional group (treatment) \n",
    "        dmin = Practical significant level (Minimum Detectable Effect)\n",
    "\n",
    "    Returns: Observed proportion and confidence interval\n",
    "\n",
    "    '''\n",
    "    purch_ctrl = df.query('Promotion == \"No\"')['purchase'].sum()\n",
    "    purch_treat = df.query('Promotion == \"Yes\"')['purchase'].sum()\n",
    "\n",
    "    # Observed IRR\n",
    "    IRR_obs = purch_treat / N_treat - purch_ctrl / N_ctrl\n",
    "\n",
    "    # Compute pooled standard error assuming that both of the variances from the two samples are equal\n",
    "    p_pool = (purch_treat + purch_ctrl) / (N_treat + N_ctrl)\n",
    "    se_pool = np.sqrt(p_pool * (1 - p_pool) / (N_ctrl + N_treat))\n",
    "    moe = se_pool * get_z_crit(alpha)\n",
    "\n",
    "    lb, ub = IRR_obs - moe, IRR_obs + moe\n",
    "\n",
    "    print('Incremental Response Rate: {:.4f}'.format(IRR_obs))\n",
    "    print('Confidence Interval: [{:.4f},{:.4f}]'.format(lb, ub))\n",
    "    \n",
    "    # Check if it is statistically significant\n",
    "    if (IRR_null >= lb) & (IRR_null <= ub):\n",
    "        print('-> Difference in proportion under the null (null_diff = 0) is within the range, there is not a statistical significant positive change.')\n",
    "    else:\n",
    "        print('-> The confidence interval is far right from the null (null_diff = 0), there is a statistical significant positive change.')\n",
    "    \n",
    "    # Check if it is practically significant\n",
    "    if (dmin >= lb) & (dmin <= ub):\n",
    "        print('-> With a practical significant level of {}, best guess is there is a practical significant positive change, but there is also possible the change is not practically significant.'.format(dmin))\n",
    "    elif (-dmin >= lb) & (-dmin <= ub):\n",
    "        print('-> With a practical significant level of {}, best guess is there is a practical significant negative change, but there is also possible the change is not practically significant. '.format(dmin))\n",
    "    else:\n",
    "        print('-> The confidence interval is far right from the practical significant level, there is a practical significant positive change.'.format(dmin))\n",
    "\n",
    "effect_size_IRR(train_data, cust_ctrl, cust_treat, 0.01)\n"
   ]
  },
  {
   "cell_type": "markdown",
   "metadata": {},
   "source": [
    "### Net Incremental Reveneu\n",
    "$$ NIR = (10\\cdot purch_{treat} - 0.15 \\cdot cust_{treat}) - 10 \\cdot purch_{ctrl}$$\n",
    "\n",
    "### Hypotheses\n",
    "$$ H_{0}: NIR <= 0 $$\n",
    "$$ H_{1}: NIR > 0 $$"
   ]
  },
  {
   "cell_type": "markdown",
   "metadata": {},
   "source": [
    "### Bootstrapping + Sampling Distribution"
   ]
  },
  {
   "cell_type": "code",
   "execution_count": 20,
   "metadata": {},
   "outputs": [],
   "source": [
    "def calculate_NIR(df):\n",
    "    cust_ctrl = df.groupby('Promotion')['ID'].count()[0]\n",
    "    cust_treat = df.groupby('Promotion')['ID'].count()[1]\n",
    "\n",
    "    purch_ctrl = df.query('Promotion == \"No\"')['purchase'].sum()\n",
    "    purch_treat = df.query('Promotion == \"Yes\"')['purchase'].sum()\n",
    "\n",
    "    NIR = (10 * purch_treat - 0.15 * cust_treat) - 10 * purch_ctrl\n",
    "\n",
    "    return NIR"
   ]
  },
  {
   "cell_type": "code",
   "execution_count": 21,
   "metadata": {},
   "outputs": [
    {
     "name": "stdout",
     "output_type": "stream",
     "text": [
      "Net Incremental Reveneu: -2334.6000\n",
      "p_value: 1.0000\n",
      "-> We fail to reject the null hypothesis, with a Type I error rate of 5%, we do not have enough evidence that the change in NIR is statistically significant.\n"
     ]
    },
    {
     "data": {
      "image/png": "[encoded data removed]",
      "text/plain": [
       "<Figure size 432x288 with 1 Axes>"
      ]
     },
     "metadata": {
      "needs_background": "light"
     },
     "output_type": "display_data"
    }
   ],
   "source": [
    "def simulation_evaluation_NIR(df, alpha = 0.05):   \n",
    "\n",
    "    # Bootstrapping, sampling distribution of the NIR\n",
    "    sample_NIRs = []\n",
    "    r = 1000 # Number of trials\n",
    "    c = df.shape[0] # Sample size\n",
    "\n",
    "    for _ in range(r):\n",
    "        bootsample = df.sample(n = c, replace = True)\n",
    "        sample_NIRs.append(calculate_NIR(bootsample))\n",
    "\n",
    "    # Simulate the value of NIR under the null hypothesis\n",
    "    NIR_null = 0 \n",
    "    null_values = np.random.normal(NIR_null, np.std(sample_NIRs), 10000)\n",
    "\n",
    "    # Calculate the mean of the simulated NIR values\n",
    "    NIR_obs = calculate_NIR(df)\n",
    "\n",
    "    # Convert to numpy array\n",
    "    null_values = np.array(null_values)\n",
    "\n",
    "    # Compute p-value\n",
    "    print('Net Incremental Reveneu: {:.4f}'.format(NIR_obs))\n",
    "    pval = (null_values > NIR_obs).mean()\n",
    "    print('p_value: {:.4f}'.format(pval))\n",
    "\n",
    "    plt.hist(null_values)\n",
    "    plt.axvline(x=NIR_obs, color = 'red')\n",
    "\n",
    "    if pval > alpha:\n",
    "        return print('-> We fail to reject the null hypothesis, with a Type I error rate of {:.0f}%, we do not have enough evidence that the change in NIR is statistically significant.'.format(alpha*100))\n",
    "    else:\n",
    "        return print('-> We reject the null hypothesis, with a Type I error rate of {:.0f}%, we have enough evidence that the change in NIR is statistically significant.'.format(alpha*100))\n",
    "\n",
    "simulation_evaluation_NIR(train_data)"
   ]
  },
  {
   "cell_type": "markdown",
   "metadata": {},
   "source": [
    "# Uplift Modeling"
   ]
  },
  {
   "cell_type": "code",
   "execution_count": 41,
   "metadata": {},
   "outputs": [
    {
     "data": {
      "text/html": [
       "<div>\n",
       "<style scoped>\n",
       "    .dataframe tbody tr th:only-of-type {\n",
       "        vertical-align: middle;\n",
       "    }\n",
       "\n",
       "    .dataframe tbody tr th {\n",
       "        vertical-align: top;\n",
       "    }\n",
       "\n",
       "    .dataframe thead th {\n",
       "        text-align: right;\n",
       "    }\n",
       "</style>\n",
       "<table border=\"1\" class=\"dataframe\">\n",
       "  <thead>\n",
       "    <tr style=\"text-align: right;\">\n",
       "      <th></th>\n",
       "      <th>ID</th>\n",
       "      <th>Promotion</th>\n",
       "      <th>purchase</th>\n",
       "      <th>V1</th>\n",
       "      <th>V2</th>\n",
       "      <th>V3</th>\n",
       "      <th>V4</th>\n",
       "      <th>V5</th>\n",
       "      <th>V6</th>\n",
       "      <th>V7</th>\n",
       "    </tr>\n",
       "  </thead>\n",
       "  <tbody>\n",
       "    <tr>\n",
       "      <th>0</th>\n",
       "      <td>1</td>\n",
       "      <td>No</td>\n",
       "      <td>0</td>\n",
       "      <td>2</td>\n",
       "      <td>30.443518</td>\n",
       "      <td>-1.165083</td>\n",
       "      <td>1</td>\n",
       "      <td>1</td>\n",
       "      <td>3</td>\n",
       "      <td>2</td>\n",
       "    </tr>\n",
       "    <tr>\n",
       "      <th>1</th>\n",
       "      <td>3</td>\n",
       "      <td>No</td>\n",
       "      <td>0</td>\n",
       "      <td>3</td>\n",
       "      <td>32.159350</td>\n",
       "      <td>-0.645617</td>\n",
       "      <td>2</td>\n",
       "      <td>3</td>\n",
       "      <td>2</td>\n",
       "      <td>2</td>\n",
       "    </tr>\n",
       "    <tr>\n",
       "      <th>2</th>\n",
       "      <td>4</td>\n",
       "      <td>No</td>\n",
       "      <td>0</td>\n",
       "      <td>2</td>\n",
       "      <td>30.431659</td>\n",
       "      <td>0.133583</td>\n",
       "      <td>1</td>\n",
       "      <td>1</td>\n",
       "      <td>4</td>\n",
       "      <td>2</td>\n",
       "    </tr>\n",
       "    <tr>\n",
       "      <th>3</th>\n",
       "      <td>5</td>\n",
       "      <td>No</td>\n",
       "      <td>0</td>\n",
       "      <td>0</td>\n",
       "      <td>26.588914</td>\n",
       "      <td>-0.212728</td>\n",
       "      <td>2</td>\n",
       "      <td>1</td>\n",
       "      <td>4</td>\n",
       "      <td>2</td>\n",
       "    </tr>\n",
       "    <tr>\n",
       "      <th>4</th>\n",
       "      <td>8</td>\n",
       "      <td>Yes</td>\n",
       "      <td>0</td>\n",
       "      <td>3</td>\n",
       "      <td>28.044332</td>\n",
       "      <td>-0.385883</td>\n",
       "      <td>1</td>\n",
       "      <td>1</td>\n",
       "      <td>2</td>\n",
       "      <td>2</td>\n",
       "    </tr>\n",
       "  </tbody>\n",
       "</table>\n",
       "</div>"
      ],
      "text/plain": [
       "   ID Promotion  purchase  V1         V2        V3  V4  V5  V6  V7\n",
       "0   1        No         0   2  30.443518 -1.165083   1   1   3   2\n",
       "1   3        No         0   3  32.159350 -0.645617   2   3   2   2\n",
       "2   4        No         0   2  30.431659  0.133583   1   1   4   2\n",
       "3   5        No         0   0  26.588914 -0.212728   2   1   4   2\n",
       "4   8       Yes         0   3  28.044332 -0.385883   1   1   2   2"
      ]
     },
     "execution_count": 41,
     "metadata": {},
     "output_type": "execute_result"
    }
   ],
   "source": [
    "train_data.head()"
   ]
  },
  {
   "cell_type": "markdown",
   "metadata": {},
   "source": [
    "## Feature Engineering"
   ]
  },
  {
   "cell_type": "code",
   "execution_count": 55,
   "metadata": {},
   "outputs": [],
   "source": [
    "# only those who made a purchase after receiving a promotion will be assigned a label of 1, \n",
    "# while the other individuals will be given a label of 0\n",
    "# in other words, only getting the best customers that is worth sending promotion to\n",
    "response = []\n",
    "\n",
    "for index, row in train_data.iterrows():\n",
    "    if (row['purchase'] == 1) and (row['Promotion']=='Yes'):\n",
    "        response.append(1)\n",
    "    else:\n",
    "        response.append(0)\n",
    "        \n",
    "train_data['response'] = response"
   ]
  },
  {
   "cell_type": "markdown",
   "metadata": {},
   "source": [
    "## Modeling"
   ]
  },
  {
   "cell_type": "code",
   "execution_count": 56,
   "metadata": {},
   "outputs": [],
   "source": [
    "X = train_data[['V1', 'V2', 'V3', 'V4', 'V5', 'V6', 'V7']]\n",
    "y = train_data['response']\n",
    "X_train, X_test, y_train, y_test = train_test_split(X, y, random_state=1)"
   ]
  },
  {
   "cell_type": "code",
   "execution_count": 44,
   "metadata": {},
   "outputs": [
    {
     "name": "stdout",
     "output_type": "stream",
     "text": [
      "RandomForestClassifier\n",
      "Mean ROC AUC: 0.517\n"
     ]
    }
   ],
   "source": [
    "# define model\n",
    "clf = RandomForestClassifier(n_estimators=10, class_weight='balanced_subsample')\n",
    "# define evaluation procedure\n",
    "cv = RepeatedStratifiedKFold(n_splits=10, n_repeats=3, random_state=1)\n",
    "# evaluate model\n",
    "scores = cross_val_score(clf, X_train,  y_train, scoring='roc_auc', cv=cv, n_jobs=-1)\n",
    "# summarize performance\n",
    "print('RandomForestClassifier')\n",
    "print('Mean ROC AUC: %.3f' % np.mean(scores))"
   ]
  },
  {
   "cell_type": "code",
   "execution_count": 45,
   "metadata": {},
   "outputs": [
    {
     "name": "stdout",
     "output_type": "stream",
     "text": [
      "BalancedRandomForestClassifier\n",
      "Mean ROC AUC: 0.611\n"
     ]
    }
   ],
   "source": [
    "# define model\n",
    "clf = BalancedRandomForestClassifier(n_estimators=10)\n",
    "# define evaluation procedure\n",
    "cv = RepeatedStratifiedKFold(n_splits=10, n_repeats=3, random_state=1)\n",
    "# evaluate model\n",
    "scores = cross_val_score(clf, X_train,  y_train, scoring='roc_auc', cv=cv, n_jobs=-1)\n",
    "# summarize performance\n",
    "print('BalancedRandomForestClassifier')\n",
    "print('Mean ROC AUC: %.3f' % np.mean(scores))"
   ]
  },
  {
   "cell_type": "code",
   "execution_count": 46,
   "metadata": {},
   "outputs": [
    {
     "name": "stdout",
     "output_type": "stream",
     "text": [
      "EasyEnsembleClassifier\n",
      "Mean ROC AUC: 0.637\n"
     ]
    }
   ],
   "source": [
    "# define model\n",
    "clf = EasyEnsembleClassifier(n_estimators=10)\n",
    "# define evaluation procedure\n",
    "cv = RepeatedStratifiedKFold(n_splits=10, n_repeats=3, random_state=1)\n",
    "# evaluate model\n",
    "scores = cross_val_score(clf, X_train,  y_train, scoring='roc_auc', cv=cv, n_jobs=-1)\n",
    "# summarize performance\n",
    "print('EasyEnsembleClassifier')\n",
    "print('Mean ROC AUC: %.3f' % np.mean(scores))"
   ]
  },
  {
   "cell_type": "code",
   "execution_count": 57,
   "metadata": {},
   "outputs": [],
   "source": [
    "def build_model():\n",
    "    # specify parameters for grid search\n",
    "    parameters = {\n",
    "    'n_estimators': [10, 20],\n",
    "    'replacement': [False, True],\n",
    "    'sampling_strategy': ['auto', 'all']\n",
    "    }\n",
    "    # create grid search object\n",
    "    cv = GridSearchCV(estimator = EasyEnsembleClassifier(), param_grid = parameters, cv = 3, n_jobs=-1, verbose=2)\n",
    "\n",
    "    return cv"
   ]
  },
  {
   "cell_type": "code",
   "execution_count": 58,
   "metadata": {},
   "outputs": [
    {
     "name": "stdout",
     "output_type": "stream",
     "text": [
      "Fitting 3 folds for each of 8 candidates, totalling 24 fits\n"
     ]
    },
    {
     "name": "stderr",
     "output_type": "stream",
     "text": [
      "[Parallel(n_jobs=-1)]: Using backend LokyBackend with 4 concurrent workers.\n",
      "[Parallel(n_jobs=-1)]: Done  24 out of  24 | elapsed:  1.0min finished\n"
     ]
    }
   ],
   "source": [
    "model = build_model()           \n",
    "model.fit(X_train, y_train)\n",
    "y_pred = model.predict(X_test)"
   ]
  },
  {
   "cell_type": "markdown",
   "metadata": {},
   "source": [
    "# Model Evaluation"
   ]
  },
  {
   "cell_type": "markdown",
   "metadata": {},
   "source": [
    "## Training Set Evaluation"
   ]
  },
  {
   "cell_type": "code",
   "execution_count": 59,
   "metadata": {},
   "outputs": [
    {
     "data": {
      "text/plain": [
       "0    11597\n",
       "1     9537\n",
       "dtype: int64"
      ]
     },
     "execution_count": 59,
     "metadata": {},
     "output_type": "execute_result"
    }
   ],
   "source": [
    "pd.Series(y_pred).value_counts()"
   ]
  },
  {
   "cell_type": "code",
   "execution_count": 60,
   "metadata": {},
   "outputs": [
    {
     "data": {
      "text/plain": [
       "array([[11544,  9418],\n",
       "       [   53,   119]])"
      ]
     },
     "execution_count": 60,
     "metadata": {},
     "output_type": "execute_result"
    }
   ],
   "source": [
    "confusion_matrix(y_test, y_pred)"
   ]
  },
  {
   "cell_type": "code",
   "execution_count": 61,
   "metadata": {},
   "outputs": [
    {
     "name": "stdout",
     "output_type": "stream",
     "text": [
      "Classification report:               precision    recall  f1-score   support\n",
      "\n",
      "           0       1.00      0.55      0.71     20962\n",
      "           1       0.01      0.69      0.02       172\n",
      "\n",
      "    accuracy                           0.55     21134\n",
      "   macro avg       0.50      0.62      0.37     21134\n",
      "weighted avg       0.99      0.55      0.70     21134\n",
      "\n"
     ]
    }
   ],
   "source": [
    "# evaluate classification model\n",
    "def evaluate_model(y_test, y_pred):\n",
    "    clsReport = classification_report(y_test, y_pred, zero_division=1)\n",
    "    print(\"Classification report:\", clsReport)\n",
    "\n",
    "evaluate_model(y_test, y_pred)"
   ]
  },
  {
   "cell_type": "markdown",
   "metadata": {},
   "source": [
    "## Test Set Evaluation"
   ]
  },
  {
   "cell_type": "code",
   "execution_count": 52,
   "metadata": {},
   "outputs": [],
   "source": [
    "def promotion_strategy(df):\n",
    "    '''\n",
    "    INPUT \n",
    "    df - a dataframe with *only* the columns V1 - V7 (same as train_data)\n",
    "\n",
    "    OUTPUT\n",
    "    promotion_df - np.array with the values\n",
    "                   'Yes' or 'No' related to whether or not an \n",
    "                   individual should recieve a promotion \n",
    "                   should be the length of df.shape[0]\n",
    "                \n",
    "    Ex:\n",
    "    INPUT: df\n",
    "    \n",
    "    V1\tV2\t  V3\tV4\tV5\tV6\tV7\n",
    "    2\t30\t-1.1\t1\t1\t3\t2\n",
    "    3\t32\t-0.6\t2\t3\t2\t2\n",
    "    2\t30\t0.13\t1\t1\t4\t2\n",
    "    \n",
    "    OUTPUT: promotion_df\n",
    "    \n",
    "    array(['Yes', 'Yes', 'No'])\n",
    "    indicating the first two users would recieve the promotion and \n",
    "    the last should not.\n",
    "    '''\n",
    "\n",
    "    y_pred = model.predict(df)\n",
    "    promotion = []\n",
    "    for i in y_pred:\n",
    "        if i == 1:\n",
    "            promotion.append('Yes')\n",
    "        else:\n",
    "            promotion.append('No')\n",
    "    promotion_df = np.asarray(promotion)\n",
    "    \n",
    "    return promotion_df \n",
    "\n",
    "def score(df, promo_pred_col = 'Promotion'):\n",
    "    n_treat       = df.loc[df[promo_pred_col] == 'Yes',:].shape[0]\n",
    "    n_control     = df.loc[df[promo_pred_col] == 'No',:].shape[0]\n",
    "    n_treat_purch = df.loc[df[promo_pred_col] == 'Yes', 'purchase'].sum()\n",
    "    n_ctrl_purch  = df.loc[df[promo_pred_col] == 'No', 'purchase'].sum()\n",
    "    irr = n_treat_purch / n_treat - n_ctrl_purch / n_control\n",
    "    nir = 10 * n_treat_purch - 0.15 * n_treat - 10 * n_ctrl_purch\n",
    "    return (irr, nir)\n",
    "    \n",
    "\n",
    "def test_results(promotion_strategy):\n",
    "    test_data = pd.read_csv('Test.csv')\n",
    "    df = test_data[['V1', 'V2', 'V3', 'V4', 'V5', 'V6', 'V7']]\n",
    "    promos = promotion_strategy(df)\n",
    "    \n",
    "    # Results without modeling\n",
    "    score_df_baseline = train_data\n",
    "    irr_base, nir_base = score(score_df_baseline)\n",
    "\n",
    "    # Results with modeling\n",
    "    score_df_uplift = test_data.iloc[np.where(promos == 'Yes')]    # Only select the best customers, whom are predicted to have positive response due to promotion\n",
    "    irr, nir = score(score_df_uplift)\n",
    "    print(\"Nice job!  See how well your strategy worked on our test data below!\")\n",
    "    print()\n",
    "    print('Your irr without strategy is {:0.4f}.'.format(irr_base))\n",
    "    print('Your irr with this strategy is {:0.4f}.'.format(irr))\n",
    "    print()\n",
    "    print('Your nir without strategy is {:0.2f}.'.format(nir_base))\n",
    "    print('Your nir with this strategy is {:0.2f}.'.format(nir))\n",
    "    \n",
    "    print(\"We came up with a model with an irr of {} and an nir of {} on the test set.\\n\\n How did you do?\".format(0.0188, 189.45))\n",
    "    return irr, nir"
   ]
  },
  {
   "cell_type": "code",
   "execution_count": 53,
   "metadata": {},
   "outputs": [
    {
     "name": "stdout",
     "output_type": "stream",
     "text": [
      "Nice job!  See how well your strategy worked on our test data below!\n",
      "\n",
      "Your irr without strategy is 0.0095.\n",
      "Your irr with this strategy is 0.0195.\n",
      "\n",
      "Your nir without strategy is -2334.60.\n",
      "Your nir with this strategy is 388.95.\n",
      "We came up with a model with an irr of 0.0188 and an nir of 189.45 on the test set.\n",
      "\n",
      " How did you do?\n"
     ]
    },
    {
     "data": {
      "text/plain": [
       "(0.0194930150042329, 388.95000000000005)"
      ]
     },
     "execution_count": 53,
     "metadata": {},
     "output_type": "execute_result"
    }
   ],
   "source": [
    "# This will test your results, and provide you back some information \n",
    "# on how well your promotion_strategy will work in practice\n",
    "\n",
    "test_results(promotion_strategy)"
   ]
  },
  {
   "cell_type": "code",
   "execution_count": null,
   "metadata": {},
   "outputs": [],
   "source": []
  }
 ],
 "metadata": {
  "interpreter": {
   "hash": "40d3a090f54c6569ab1632332b64b2c03c39dcf918b08424e98f38b5ae0af88f"
  },
  "kernelspec": {
   "display_name": "Python 3.7.6 64-bit ('base': conda)",
   "name": "python3"
  },
  "language_info": {
   "codemirror_mode": {
    "name": "ipython",
    "version": 3
   },
   "file_extension": ".py",
   "mimetype": "text/x-python",
   "name": "python",
   "nbconvert_exporter": "python",
   "pygments_lexer": "ipython3",
   "version": "3.7.6"
  }
 },
 "nbformat": 4,
 "nbformat_minor": 2
}
